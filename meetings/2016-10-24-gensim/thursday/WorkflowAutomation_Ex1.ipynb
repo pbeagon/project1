{
 "cells": [
  {
   "cell_type": "markdown",
   "metadata": {},
   "source": [
    "Workflow automation tools\n",
    "=========================\n",
    "\n",
    "Exercise 1 - Running a single simulation with BuildingsPy\n",
    "---------------------------------------------------------\n",
    "\n",
    "This page shows how to run a simple simulation using the [BuildingsPy](http://simulationresearch.lbl.gov/modelica/buildingspy/) Python package.\n",
    "\n",
    "In addition to this package, you need the [Annex60 Modelica library](https://github.com/iea-annex60/modelica-annex60) to run it. You can simply copy and paste the code below and run it in your Python environment, or open this notebook in the Jupyter viewer.\n",
    "\n",
    "Before running the code, the `ppath` variable should point to the location of the Annex 60 library on your drive."
   ]
  },
  {
   "cell_type": "code",
   "execution_count": null,
   "metadata": {
    "collapsed": true
   },
   "outputs": [],
   "source": [
    "#==============================================================================\n",
    "# Loading the model file\n",
    "#==============================================================================\n",
    "\n",
    "# Set the path to the Buildings library on your drive\n",
    "ppath = 'D:\\\\path_to_the_modelica_library_on_your_drive'\n",
    "# Set the path to the model inside the Buildings library\n",
    "model = 'Annex60.Controls.Continuous.Examples.PIDHysteresis'\n",
    "\n",
    "# Load the Simulator class from BuildingsPy\n",
    "import buildingspy.simulate.Simulator as si\n",
    "s = si.Simulator(model, 'dymola', packagePath = ppath)\n",
    "\n",
    "#==============================================================================\n",
    "# Setting up and starting the simulation\n",
    "#==============================================================================\n",
    "\n",
    "# Modify some parameter value\n",
    "s.addParameters({'con.eOn': 0.5})\n",
    "\n",
    "# Setup and start the simulation\n",
    "s.setStopTime(86400)\n",
    "s.printModelAndTime()\n",
    "s.simulate()\n",
    "\n",
    "#==============================================================================\n",
    "# Loading and reading results\n",
    "#==============================================================================\n",
    "\n",
    "# Load results which have been saved in a .mat file\n",
    "from buildingspy.io.outputfile import Reader\n",
    "r = Reader('PIDHysteresis.mat', 'dymola')\n",
    "\n",
    "# Assign values from the reader to variables\n",
    "(t, T) = r.values('temSen.T')\n",
    "(t, y) = r.values('con.y')\n",
    "\n",
    "#==============================================================================\n",
    "# Plotting results\n",
    "#==============================================================================\n",
    "from matplotlib import rc\n",
    "rc('text', usetex=True)\n",
    "rc('font', family='serif', size = 14)\n",
    "\n",
    "import matplotlib.pyplot as plt\n",
    "fig = plt.figure()\n",
    "\n",
    "ax = fig.add_subplot(211)  \n",
    "ax.plot(t/3600, T, '-k', linewidth = 1.5, label = r'$T_{amb}$')\n",
    "ax.set_xlabel('Time (h)')\n",
    "ax.set_ylabel('Ambient temperature (K)')\n",
    "ax.legend()\n",
    "\n",
    "ax = fig.add_subplot(212)\n",
    "ax.plot(t/3600, y, '-b', linewidth = 1.5, label = 'y')\n",
    "ax.set_xlabel('Time (h)')\n",
    "ax.set_ylabel('y')\n",
    "ax.legend(loc = 'lower right')\n",
    "\n",
    "plt.savefig('plot.png')"
   ]
  }
 ],
 "metadata": {
  "kernelspec": {
   "display_name": "Python 3",
   "language": "python",
   "name": "python3"
  },
  "language_info": {
   "codemirror_mode": {
    "name": "ipython",
    "version": 3
   },
   "file_extension": ".py",
   "mimetype": "text/x-python",
   "name": "python",
   "nbconvert_exporter": "python",
   "pygments_lexer": "ipython3",
   "version": "3.5.1"
  }
 },
 "nbformat": 4,
 "nbformat_minor": 0
}
